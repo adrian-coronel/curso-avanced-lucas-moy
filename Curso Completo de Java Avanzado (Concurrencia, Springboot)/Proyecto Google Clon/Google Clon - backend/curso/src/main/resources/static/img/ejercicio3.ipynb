{
 "cells": [
  {
   "cell_type": "code",
   "execution_count": 1,
   "metadata": {},
   "outputs": [
    {
     "name": "stdout",
     "output_type": "stream",
     "text": [
      "Haz sido premiado\n",
      "1020\n"
     ]
    }
   ],
   "source": [
    "for i in range(980,1021):\n",
    "  if i == 1000:\n",
    "    print(\"Haz sido premiado\");\n",
    "else:\n",
    "    print(i);"
   ]
  }
 ],
 "metadata": {
  "kernelspec": {
   "display_name": "Python 3.10.5 64-bit",
   "language": "python",
   "name": "python3"
  },
  "language_info": {
   "codemirror_mode": {
    "name": "ipython",
    "version": 3
   },
   "file_extension": ".py",
   "mimetype": "text/x-python",
   "name": "python",
   "nbconvert_exporter": "python",
   "pygments_lexer": "ipython3",
   "version": "3.10.5 (tags/v3.10.5:f377153, Jun  6 2022, 16:14:13) [MSC v.1929 64 bit (AMD64)]"
  },
  "orig_nbformat": 4,
  "vscode": {
   "interpreter": {
    "hash": "5c92e1febd7c53bab362309a740e9af1b5bcd23eabab23f45b8d2050a4d81813"
   }
  }
 },
 "nbformat": 4,
 "nbformat_minor": 2
}
